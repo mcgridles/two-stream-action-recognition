{
 "cells": [
  {
   "cell_type": "code",
   "execution_count": null,
   "metadata": {},
   "outputs": [],
   "source": [
    "import matplotlib.pyplot as plt\n",
    "import pickle\n",
    "import numpy as np\n",
    "import torch\n",
    "import dataloader\n",
    "import os\n",
    "from sklearn.metrics import confusion_matrix\n",
    "from sklearn.utils.multiclass import unique_labels\n",
    "\n",
    "from action_utils import *"
   ]
  },
  {
   "cell_type": "code",
   "execution_count": null,
   "metadata": {},
   "outputs": [],
   "source": [
    "rgb_preds='record/spatial/spatial_video_preds.pickle'\n",
    "with open(rgb_preds,'rb') as f:\n",
    "        rgb =pickle.load(f)\n",
    "    f.close()\n",
    "    \n",
    "opf_preds = 'record/motion/motion_video_preds.pickle'\n",
    "with open(opf_preds,'rb') as f:\n",
    "        opf =pickle.load(f)\n",
    "    f.close()\n",
    "    \n",
    "stream = rgb"
   ]
  },
  {
   "cell_type": "code",
   "execution_count": null,
   "metadata": {},
   "outputs": [],
   "source": [
    "dataloader = dataloader.spatial_dataloader(BATCH_SIZE=1, num_workers=1, \n",
    "                                           path='/mnt/disks/datastorage/videos/rgb/', \n",
    "                                           ucf_list=os.path.join(os.path.abspath(__file__), 'UCF_list'),\n",
    "                                           ucf_split='01')\n",
    "train_loader,val_loader,test_video = dataloader.run()"
   ]
  },
  {
   "cell_type": "code",
   "execution_count": null,
   "metadata": {},
   "outputs": [],
   "source": [
    "num_classes = 4"
   ]
  },
  {
   "cell_type": "code",
   "execution_count": null,
   "metadata": {},
   "outputs": [],
   "source": [
    "video_level_argmax = np.zeros(len(stream.keys()))\n",
    "video_level_labels = np.zeros(len(stream.keys()))\n",
    "video_level_preds = np.zeros((len(rgb.keys()), num_classes))\n",
    "\n",
    "for ii, name in enumerate(sorted(stream.keys())):\n",
    "    s = stream[name]\n",
    "\n",
    "    label = int(test_video[name])-1\n",
    "\n",
    "    video_level_preds[ii,:] = s\n",
    "    video_level_argmax[ii] = np.argmax(s)\n",
    "    video_level_labels[ii] = label\n",
    "\n",
    "video_level_labels = torch.from_numpy(video_level_labels).long()\n",
    "video_level_argmax = torch.from_numpy(video_level_preds).float()"
   ]
  },
  {
   "cell_type": "code",
   "execution_count": null,
   "metadata": {},
   "outputs": [],
   "source": [
    "classes = set(video_level_labels + video_level_preds)\n",
    "assert len(classes) == num_classes\n",
    "\n",
    "cm = confusion_matrix(video_level_labels, video_level_preds)\n",
    "cm = cm.astype('float') / cm.sum(axis=1)[:, np.newaxis]\n",
    "\n",
    "fig, ax = plt.subplots()\n",
    "im = ax.imshow(cm, interpolation='nearest', cmap=cmap)\n",
    "ax.figure.colorbar(im, ax=ax)\n",
    "ax.set(xticks=np.arange(cm.shape[1]),\n",
    "       yticks=np.arange(cm.shape[0]),\n",
    "       xticklabels=classes, yticklabels=classes,\n",
    "       title=title,\n",
    "       ylabel='True label',\n",
    "       xlabel='Predicted label')\n",
    "\n",
    "# Rotate the tick labels and set their alignment.\n",
    "plt.setp(ax.get_xticklabels(), rotation=45, ha=\"right\",\n",
    "         rotation_mode=\"anchor\")\n",
    "\n",
    "# Loop over data dimensions and create text annotations.\n",
    "fmt = '.2f' if normalize else 'd'\n",
    "thresh = cm.max() / 2.\n",
    "for i in range(cm.shape[0]):\n",
    "    for j in range(cm.shape[1]):\n",
    "        ax.text(j, i, format(cm[i, j], fmt), ha=\"center\", va=\"center\",\n",
    "                color=\"white\" if cm[i, j] > thresh else \"black\")\n",
    "\n",
    "fig.tight_layout()\n",
    "plt.show()"
   ]
  }
 ],
 "metadata": {
  "kernelspec": {
   "display_name": "Python 3",
   "language": "python",
   "name": "python3"
  },
  "language_info": {
   "codemirror_mode": {
    "name": "ipython",
    "version": 3
   },
   "file_extension": ".py",
   "mimetype": "text/x-python",
   "name": "python",
   "nbconvert_exporter": "python",
   "pygments_lexer": "ipython3",
   "version": "3.6.9"
  }
 },
 "nbformat": 4,
 "nbformat_minor": 2
}
