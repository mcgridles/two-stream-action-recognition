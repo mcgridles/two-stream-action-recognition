{
 "cells": [
  {
   "cell_type": "code",
   "execution_count": 1,
   "metadata": {},
   "outputs": [],
   "source": [
    "import matplotlib.pyplot as plt\n",
    "import pickle\n",
    "import numpy as np\n",
    "import torch\n",
    "import dataloader\n",
    "import os\n",
    "from sklearn.metrics import confusion_matrix\n",
    "from sklearn.utils.multiclass import unique_labels\n",
    "\n",
    "from action_utils import *"
   ]
  },
  {
   "cell_type": "code",
   "execution_count": 2,
   "metadata": {},
   "outputs": [],
   "source": [
    "rgb_preds='record/spatial/spatial_video_preds.pickle'\n",
    "with open(rgb_preds,'rb') as f:\n",
    "    rgb =pickle.load(f)\n",
    "    \n",
    "opf_preds = 'record/motion/motion_video_preds.pickle'\n",
    "with open(opf_preds,'rb') as f:\n",
    "    opf =pickle.load(f)\n",
    "    \n",
    "stream = opf"
   ]
  },
  {
   "cell_type": "code",
   "execution_count": 3,
   "metadata": {},
   "outputs": [
    {
     "name": "stdout",
     "output_type": "stream",
     "text": [
      "Spatial Dataloader Initialized\n",
      "==> (Training video, Validation video):( 1837 403 )\n",
      "==> sampling testing frames\n",
      "Spatial train Dataset Initialized\n",
      "==> Training data : 1837 frames\n",
      "Spatial val Dataset Initialized\n",
      "==> Validation data : 7657 frames\n"
     ]
    }
   ],
   "source": [
    "dataloader = dataloader.spatial_dataloader(BATCH_SIZE=1, num_workers=1, \n",
    "                                           path='/mnt/disks/datastorage/videos/rgb/', \n",
    "                                           ucf_list='/home/mlp/two-stream-action-recognition/UCF_list/',\n",
    "                                           ucf_split='01')\n",
    "train_loader,val_loader,test_video = dataloader.run()"
   ]
  },
  {
   "cell_type": "code",
   "execution_count": 4,
   "metadata": {},
   "outputs": [],
   "source": [
    "num_classes = 4"
   ]
  },
  {
   "cell_type": "code",
   "execution_count": 5,
   "metadata": {},
   "outputs": [],
   "source": [
    "video_level_argmax = np.zeros(len(stream.keys()))\n",
    "video_level_labels = np.zeros(len(stream.keys()))\n",
    "video_level_preds = np.zeros((len(rgb.keys()), num_classes))\n",
    "\n",
    "for ii, name in enumerate(sorted(stream.keys())):\n",
    "    r = rgb[name]\n",
    "    o = opf[name]\n",
    "\n",
    "    label = int(test_video[name])-1\n",
    "\n",
    "    fusion = r + o\n",
    "    video_level_preds[ii,:] = fusion\n",
    "    video_level_argmax[ii] = np.argmax(fusion)\n",
    "    video_level_labels[ii] = label\n",
    "    \n",
    "video_level_argmax = video_level_argmax.astype(np.uint8)"
   ]
  },
  {
   "cell_type": "code",
   "execution_count": 6,
   "metadata": {},
   "outputs": [
    {
     "data": {
      "image/png": "[encoded data removed]",
      "text/plain": [
       "<Figure size 432x288 with 2 Axes>"
      ]
     },
     "metadata": {
      "needs_background": "light"
     },
     "output_type": "display_data"
    }
   ],
   "source": [
    "classes = set(video_level_labels.tolist() + video_level_argmax.tolist())\n",
    "assert len(classes) == num_classes\n",
    "\n",
    "cm = confusion_matrix(video_level_labels, video_level_argmax)\n",
    "cm = cm.astype('float') / cm.sum(axis=1)[:, np.newaxis]\n",
    "\n",
    "cmap = plt.cm.Blues\n",
    "title = 'Confusion Matrix'\n",
    "\n",
    "fig, ax = plt.subplots()\n",
    "im = ax.imshow(cm, interpolation='nearest', cmap=cmap)\n",
    "ax.figure.colorbar(im, ax=ax)\n",
    "ax.set(xticks=np.arange(cm.shape[1]),\n",
    "       yticks=np.arange(cm.shape[0]),\n",
    "       xticklabels=classes, yticklabels=classes,\n",
    "       title=title,\n",
    "       ylabel='True label',\n",
    "       xlabel='Predicted label')\n",
    "\n",
    "# Rotate the tick labels and set their alignment.\n",
    "plt.setp(ax.get_xticklabels(), rotation=45, ha=\"right\",\n",
    "         rotation_mode=\"anchor\")\n",
    "\n",
    "# Loop over data dimensions and create text annotations.\n",
    "fmt = '.2f'\n",
    "thresh = cm.max() / 2.\n",
    "for i in range(cm.shape[0]):\n",
    "    for j in range(cm.shape[1]):\n",
    "        ax.text(j, i, format(cm[i, j], fmt), ha=\"center\", va=\"center\",\n",
    "                color=\"white\" if cm[i, j] > thresh else \"black\")\n",
    "\n",
    "fig.tight_layout()\n",
    "plt.show()"
   ]
  },
  {
   "cell_type": "code",
   "execution_count": null,
   "metadata": {},
   "outputs": [],
   "source": []
  }
 ],
 "metadata": {
  "kernelspec": {
   "display_name": "Python 3",
   "language": "python",
   "name": "python3"
  },
  "language_info": {
   "codemirror_mode": {
    "name": "ipython",
    "version": 3
   },
   "file_extension": ".py",
   "mimetype": "text/x-python",
   "name": "python",
   "nbconvert_exporter": "python",
   "pygments_lexer": "ipython3",
   "version": "3.7.3"
  }
 },
 "nbformat": 4,
 "nbformat_minor": 2
}
