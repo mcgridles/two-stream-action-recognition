{
 "cells": [
  {
   "cell_type": "code",
   "execution_count": 2,
   "metadata": {},
   "outputs": [],
   "source": [
    "import matplotlib.pyplot as plt\n",
    "import pickle\n",
    "import numpy as np\n",
    "import pandas as pd\n",
    "import seaborn as sns\n",
    "import torch\n",
    "import dataloader\n",
    "import os\n",
    "from sklearn.metrics import confusion_matrix\n",
    "from sklearn.utils.multiclass import unique_labels\n",
    "\n",
    "from scipy.special import softmax\n",
    "\n",
    "from action_utils import *"
   ]
  },
  {
   "cell_type": "markdown",
   "metadata": {},
   "source": [
    "## Generate my new spatial_video_preds.pickle by old rgb model"
   ]
  },
  {
   "cell_type": "code",
   "execution_count": 4,
   "metadata": {},
   "outputs": [],
   "source": [
    "def stack_op(imgs_u,imgs_v,i):\n",
    "    _, img_rows, img_cols = imgs_u[0].shape\n",
    "    flow = torch.FloatTensor(2*10,img_rows,img_cols)\n",
    "\n",
    "    for j in range(i, 10+i):\n",
    "        H = imgs_u[j]\n",
    "        V = imgs_v[j]\n",
    "\n",
    "        flow[2*(j-1-i),:,:] = H\n",
    "        flow[2*(j-1-i)+1,:,:] = V\n",
    "\n",
    "    flow = flow.unsqueeze(0)\n",
    "    \n",
    "    return flow"
   ]
  },
  {
   "cell_type": "code",
   "execution_count": 5,
   "metadata": {},
   "outputs": [],
   "source": [
    "from two_stream_loader import *"
   ]
  },
  {
   "cell_type": "code",
   "execution_count": 6,
   "metadata": {},
   "outputs": [],
   "source": [
    "path_temporal = r\"/mnt/disks/datastorage/videos/flownet2/\"\n",
    "path_spatial = r\"/mnt/disks/datastorage/videos/rgb/\""
   ]
  },
  {
   "cell_type": "code",
   "execution_count": 7,
   "metadata": {},
   "outputs": [],
   "source": [
    "frame_count = dataloader.frame_count"
   ]
  },
  {
   "cell_type": "code",
   "execution_count": 8,
   "metadata": {},
   "outputs": [],
   "source": [
    "dic_testing = {}\n",
    "for key,value in test_video.items():\n",
    "    dic_testing[key+\" \"+str(frame_count[key]-10+1)] = value"
   ]
  },
  {
   "cell_type": "code",
   "execution_count": 9,
   "metadata": {},
   "outputs": [
    {
     "name": "stdout",
     "output_type": "stream",
     "text": [
      "Dropout is  0\n",
      "Dropout is  0\n"
     ]
    }
   ],
   "source": [
    "[temporal_net,spatial_net] =load_models(\"\",\"\")"
   ]
  },
  {
   "cell_type": "code",
   "execution_count": 10,
   "metadata": {},
   "outputs": [],
   "source": [
    "nSamples = 30\n",
    "spatial_net.eval()\n",
    "temporal_net.eval()\n",
    "\n",
    "\n",
    "rgb_dic={}\n",
    "opf_dic={}\n",
    "for key,value in dic_testing.items():\n",
    "    video_name,nb_frames = key.split(' ')\n",
    "    nb_frames = int(nb_frames)\n",
    "    \n",
    "    try:\n",
    "        imgs_u,imgs_v = load_temporal_images(path_temporal,\"v_\"+video_name)\n",
    "        imgs_spatial = load_spatial_images(path_spatial,\"v_\"+video_name)\n",
    "    except:\n",
    "        print(\"Skipped \",video_name)\n",
    "        continue\n",
    "    \n",
    "#     print(video_name,nb_frames)\n",
    "    p_spatial = np.zeros((1,4))\n",
    "    p_temporal = np.zeros((1,4))\n",
    "    for i in range(nSamples):\n",
    "#         print(i*nb_frames/nSamples,(i+1)*nb_frames/nSamples)\n",
    "#         print(np.random.randint(i*nb_frames/nSamples,(i+1)*nb_frames/nSamples))\n",
    "        idx = np.random.randint(i*nb_frames/nSamples,(i+1)*nb_frames/nSamples)\n",
    "\n",
    "        p_spatial = spatial_net.forward(imgs_spatial[idx].unsqueeze(0).cuda()).cpu().detach().numpy().squeeze()\n",
    "        p_spatial += p_spatial\n",
    "        \n",
    "        flow = stack_op(imgs_u,imgs_v,idx)\n",
    "        p_temporal = temporal_net.forward(flow.cuda()).cpu().detach().numpy().squeeze()\n",
    "        p_temporal += p_temporal\n",
    "    \n",
    "    rgb_dic[video_name] = softmax(p_spatial)\n",
    "    opf_dic[video_name] = softmax(p_temporal)\n",
    "    \n",
    "    "
   ]
  },
  {
   "cell_type": "code",
   "execution_count": 11,
   "metadata": {},
   "outputs": [],
   "source": [
    "rgb_d='record/spatial/spatial_video_preds.pickle'\n",
    "with open(rgb_d,'wb') as f:\n",
    "    pickle.dump(rgb_dic,f)"
   ]
  },
  {
   "cell_type": "code",
   "execution_count": 12,
   "metadata": {},
   "outputs": [],
   "source": [
    "opf_d='record/motion/motion_video_preds.pickle'\n",
    "with open(opf_d,'wb') as f:\n",
    "    pickle.dump(opf_dic,f)"
   ]
  },
  {
   "cell_type": "markdown",
   "metadata": {},
   "source": [
    "## Confusion Time"
   ]
  },
  {
   "cell_type": "code",
   "execution_count": 13,
   "metadata": {},
   "outputs": [],
   "source": [
    "rgb_preds='record/spatial/spatial_video_preds.pickle'\n",
    "with open(rgb_preds,'rb') as f:\n",
    "    rgb =pickle.load(f)\n",
    "    \n",
    "opf_preds = 'record/motion/motion_video_preds.pickle'\n",
    "with open(opf_preds,'rb') as f:\n",
    "    opf =pickle.load(f)\n",
    "    \n",
    "stream = opf"
   ]
  },
  {
   "cell_type": "code",
   "execution_count": 14,
   "metadata": {},
   "outputs": [
    {
     "ename": "AttributeError",
     "evalue": "'spatial_dataloader' object has no attribute 'spatial_dataloader'",
     "output_type": "error",
     "traceback": [
      "\u001b[0;31m---------------------------------------------------------------------------\u001b[0m",
      "\u001b[0;31mAttributeError\u001b[0m                            Traceback (most recent call last)",
      "\u001b[0;32m<ipython-input-14-56379b82c58e>\u001b[0m in \u001b[0;36m<module>\u001b[0;34m\u001b[0m\n\u001b[0;32m----> 1\u001b[0;31m dataloader = dataloader.spatial_dataloader(BATCH_SIZE=1, num_workers=1, \n\u001b[0m\u001b[1;32m      2\u001b[0m                                            \u001b[0mpath\u001b[0m\u001b[0;34m=\u001b[0m\u001b[0;34m'/mnt/disks/datastorage/videos/rgb/'\u001b[0m\u001b[0;34m,\u001b[0m\u001b[0;34m\u001b[0m\u001b[0;34m\u001b[0m\u001b[0m\n\u001b[1;32m      3\u001b[0m                                            \u001b[0mucf_list\u001b[0m\u001b[0;34m=\u001b[0m\u001b[0;34m'/home/mlp/two-stream-action-recognition/UCF_list/'\u001b[0m\u001b[0;34m,\u001b[0m\u001b[0;34m\u001b[0m\u001b[0;34m\u001b[0m\u001b[0m\n\u001b[1;32m      4\u001b[0m                                            ucf_split='01')\n\u001b[1;32m      5\u001b[0m \u001b[0mtrain_loader\u001b[0m\u001b[0;34m,\u001b[0m\u001b[0mval_loader\u001b[0m\u001b[0;34m,\u001b[0m\u001b[0mtest_video\u001b[0m \u001b[0;34m=\u001b[0m \u001b[0mdataloader\u001b[0m\u001b[0;34m.\u001b[0m\u001b[0mrun\u001b[0m\u001b[0;34m(\u001b[0m\u001b[0;34m)\u001b[0m\u001b[0;34m\u001b[0m\u001b[0;34m\u001b[0m\u001b[0m\n",
      "\u001b[0;31mAttributeError\u001b[0m: 'spatial_dataloader' object has no attribute 'spatial_dataloader'"
     ]
    }
   ],
   "source": [
    "dataloader = dataloader.spatial_dataloader(BATCH_SIZE=1, num_workers=1, \n",
    "                                           path='/mnt/disks/datastorage/videos/rgb/', \n",
    "                                           ucf_list='/home/mlp/two-stream-action-recognition/UCF_list/',\n",
    "                                           ucf_split='01')\n",
    "train_loader,val_loader,test_video = dataloader.run()"
   ]
  },
  {
   "cell_type": "code",
   "execution_count": 15,
   "metadata": {},
   "outputs": [],
   "source": [
    "num_classes = 4"
   ]
  },
  {
   "cell_type": "code",
   "execution_count": 16,
   "metadata": {},
   "outputs": [],
   "source": [
    "video_level_argmax = np.zeros(len(stream.keys()))\n",
    "video_level_labels = np.zeros(len(stream.keys()))\n",
    "video_level_preds = np.zeros((len(rgb.keys()), num_classes))\n",
    "\n",
    "video_level_rgb_preds = np.zeros((len(rgb.keys()), num_classes))\n",
    "video_level_op_preds = np.zeros((len(rgb.keys()), num_classes))\n",
    "video_level_op_argmax = np.zeros(len(stream.keys()))\n",
    "video_level_rgb_argmax = np.zeros(len(stream.keys()))\n",
    "\n",
    "\n",
    "for ii, name in enumerate(sorted(stream.keys())):\n",
    "    r = rgb[name]\n",
    "    o = opf[name]\n",
    "\n",
    "    label = int(test_video[name])-1\n",
    "\n",
    "    fusion = r + o\n",
    "    video_level_preds[ii,:] = fusion\n",
    "    video_level_argmax[ii] = np.argmax(fusion)\n",
    "    video_level_labels[ii] = label\n",
    "    \n",
    "    video_level_op_preds[ii,:] = o\n",
    "    video_level_rgb_preds[ii,:] = r\n",
    "\n",
    "    video_level_op_argmax[ii] = np.argmax(o)\n",
    "    video_level_rgb_argmax[ii] = np.argmax(r)\n",
    "\n",
    "    \n",
    "video_level_argmax = video_level_argmax.astype(np.uint8)\n",
    "video_level_op_argmax = video_level_op_argmax.astype(np.uint8)\n",
    "video_level_rgb_argmax = video_level_rgb_argmax.astype(np.uint8)"
   ]
  },
  {
   "cell_type": "code",
   "execution_count": 20,
   "metadata": {},
   "outputs": [
    {
     "data": {
      "image/png": "[encoded data removed]",
      "text/plain": [
       "<Figure size 432x288 with 2 Axes>"
      ]
     },
     "metadata": {
      "needs_background": "light"
     },
     "output_type": "display_data"
    }
   ],
   "source": [
    "classes = set(video_level_labels.tolist() + video_level_argmax.tolist())\n",
    "assert len(classes) == num_classes\n",
    "\n",
    "cm = confusion_matrix(video_level_labels, video_level_argmax)\n",
    "#cm = confusion_matrix(video_level_labels, video_level_op_argmax)\n",
    "#cm = confusion_matrix(video_level_labels, video_level_rgb_argmax)\n",
    "\n",
    "cm = cm.astype('float') / cm.sum(axis=1)[:, np.newaxis]\n",
    "\n",
    "cmap = plt.cm.Blues\n",
    "title = 'Confusion Matrix'\n",
    "\n",
    "fig, ax = plt.subplots()\n",
    "im = ax.imshow(cm, interpolation='nearest', cmap=cmap)\n",
    "ax.figure.colorbar(im, ax=ax)\n",
    "ax.set(xticks=np.arange(cm.shape[1]),\n",
    "       yticks=np.arange(cm.shape[0]),\n",
    "       xticklabels=classes, yticklabels=classes,\n",
    "       title=title,\n",
    "       ylabel='True label',\n",
    "       xlabel='Predicted label')\n",
    "\n",
    "# Rotate the tick labels and set their alignment.\n",
    "plt.setp(ax.get_xticklabels(), rotation=45, ha=\"right\",\n",
    "         rotation_mode=\"anchor\")\n",
    "\n",
    "# Loop over data dimensions and create text annotations.\n",
    "fmt = '.2f'\n",
    "thresh = cm.max() / 2.\n",
    "for i in range(cm.shape[0]):\n",
    "    for j in range(cm.shape[1]):\n",
    "        ax.text(j, i, format(cm[i, j], fmt), ha=\"center\", va=\"center\",\n",
    "                color=\"white\" if cm[i, j] > thresh else \"black\")\n",
    "\n",
    "fig.tight_layout()\n",
    "plt.show()"
   ]
  },
  {
   "cell_type": "markdown",
   "metadata": {},
   "source": [
    "## Exploratory Data Analysis"
   ]
  },
  {
   "cell_type": "code",
   "execution_count": null,
   "metadata": {},
   "outputs": [],
   "source": [
    "idx_assault = video_level_labels==1"
   ]
  },
  {
   "cell_type": "code",
   "execution_count": null,
   "metadata": {
    "scrolled": true
   },
   "outputs": [],
   "source": [
    "assault_pred_rgb = video_level_rgb_preds[idx_assault,:]"
   ]
  },
  {
   "cell_type": "code",
   "execution_count": null,
   "metadata": {
    "scrolled": true
   },
   "outputs": [],
   "source": [
    "df = pd.DataFrame({\"RGB\":assault_pred_rgb[:,1],\"OF\":assault_pred_of[:,1]})"
   ]
  },
  {
   "cell_type": "code",
   "execution_count": null,
   "metadata": {},
   "outputs": [],
   "source": [
    "df[\"OF\"].hist()"
   ]
  },
  {
   "cell_type": "code",
   "execution_count": null,
   "metadata": {},
   "outputs": [],
   "source": [
    "df[\"RGB\"].hist()"
   ]
  },
  {
   "cell_type": "code",
   "execution_count": null,
   "metadata": {},
   "outputs": [],
   "source": [
    "plt.figure(figsize=(10,10))\n",
    "sns.jointplot(x=\"RGB\",y=\"OF\",data=df)\n",
    "plt.show()"
   ]
  }
 ],
 "metadata": {
  "kernelspec": {
   "display_name": "Python 3",
   "language": "python",
   "name": "python3"
  },
  "language_info": {
   "codemirror_mode": {
    "name": "ipython",
    "version": 3
   },
   "file_extension": ".py",
   "mimetype": "text/x-python",
   "name": "python",
   "nbconvert_exporter": "python",
   "pygments_lexer": "ipython3",
   "version": "3.7.3"
  }
 },
 "nbformat": 4,
 "nbformat_minor": 2
}
