{
 "cells": [
  {
   "cell_type": "code",
   "execution_count": 1,
   "metadata": {},
   "outputs": [],
   "source": [
    "from two_stream_loader import *\n",
    "import skimage\n",
    "import pickle\n",
    "from torch.nn.functional import softmax\n",
    "import matplotlib.pyplot as plt\n",
    "\n",
    "from scipy.special import softmax as scipy_softmax"
   ]
  },
  {
   "cell_type": "code",
   "execution_count": 2,
   "metadata": {},
   "outputs": [],
   "source": [
    "# path_temporal = r\"/mnt/disks/datastorage/videos/elp/demos/flownet2/\"\n",
    "# path_spatial = r\"/mnt/disks/datastorage/videos/elp/demos/rgb/\"\n",
    "\n",
    "path_temporal = r\"/mnt/disks/datastorage/videos/flownet2/\"\n",
    "path_spatial = r\"/mnt/disks/datastorage/videos/rgb/\"\n",
    "\n",
    "# path_temporal = r\"/mnt/disks/datastorage/videos/elp/test/flownet2/\"\n",
    "# path_spatial = r\"/mnt/disks/datastorage/videos/elp/test/rgb/\"\n",
    "\n",
    "# light demos\n",
    "#file = \"v_Assault_g17_c000004\"\n",
    "#file = \"v_Shooting_g18_c000004\"\n",
    "#file = \"v_Theft_g16_c000004\"\n",
    "#file = \"v_Misc_g16_c000006\" # works when adding together\n",
    "\n",
    "# Dark demos\n",
    "#file = \"v_Assault_g12_c000004\"\n",
    "#file = \"v_Shooting_g18_c000005\"\n",
    "#file = \"v_Theft_g23_c000016\"\n",
    "#file = \"v_Misc_g17_c000003\"\n",
    "\n",
    "#file = \"v_Shooting_g11_c000001\"\n",
    "#file = \"v_Misc_g29_c000005\"\n",
    "file = \"v_Shooting_g18_c000001\"\n",
    "\n",
    "\n",
    "imgs_u,imgs_v = load_temporal_images(path_temporal,file)\n",
    "imgs_spatial = load_spatial_images(path_spatial,file)\n",
    "\n",
    "imgs_normal = load_normal_spatial_images(path_spatial,file)\n",
    "imgs_u_normal,imgs_v_normal = load_normal_temporal_images(path_temporal,file)"
   ]
  },
  {
   "cell_type": "code",
   "execution_count": 3,
   "metadata": {},
   "outputs": [
    {
     "name": "stdout",
     "output_type": "stream",
     "text": [
      "4\n",
      "Dropout is  0.1\n",
      "Dropout is  0.1\n"
     ]
    }
   ],
   "source": [
    "nb_classes = 4;\n",
    "[temporal_net,spatial_net] =load_models(spatial_path=r\"/home/mlp/two-stream-action-recognition/record/spatial/model_best_FENS.pth.tar\",\n",
    "                temporal_path=r\"/home/mlp/two-stream-action-recognition/record/motion/model_best_FENS.pth.tar\",\n",
    "                                        nb_classes=nb_classes,p_optical=.1)"
   ]
  },
  {
   "cell_type": "code",
   "execution_count": 9,
   "metadata": {},
   "outputs": [],
   "source": [
    "def stack_op(imgs_u,imgs_v,i):\n",
    "    _, img_rows, img_cols = imgs_u[0].shape\n",
    "    flow = torch.FloatTensor(2*10,img_rows,img_cols)\n",
    "\n",
    "    for j in range(i, 10+i):\n",
    "        H = imgs_u[j]\n",
    "        V = imgs_v[j]\n",
    "\n",
    "        flow[2*(j-1-i),:,:] = H\n",
    "        flow[2*(j-1-i)+1,:,:] = V\n",
    "\n",
    "    flow = flow.unsqueeze(0)\n",
    "    \n",
    "    return flow"
   ]
  },
  {
   "cell_type": "code",
   "execution_count": null,
   "metadata": {},
   "outputs": [],
   "source": [
    "if 0:\n",
    "    spatial_net.eval()\n",
    "    for i in imgs_spatial:\n",
    "        pred=spatial_net.forward(i.unsqueeze(0)).detach().numpy().squeeze()\n",
    "        print(spatial_net.forward(i.unsqueeze(0)).detach().numpy().squeeze(),\" Predict \",pred.argmax())"
   ]
  },
  {
   "cell_type": "code",
   "execution_count": null,
   "metadata": {},
   "outputs": [],
   "source": [
    "if 0:\n",
    "    temporal_net.eval()\n",
    "    for i in range(len(imgs_u)-10):\n",
    "        flow = stack_op(imgs_u,imgs_v,i)\n",
    "        pred = temporal_net.forward(flow).detach().numpy().squeeze()\n",
    "        print(pred,\" Predict \",pred.argmax())\n",
    "    #     print(temporal_net.forward(flow).argmax(1))"
   ]
  },
  {
   "cell_type": "code",
   "execution_count": 4,
   "metadata": {},
   "outputs": [],
   "source": [
    "# Load from file\n",
    "model_pickle_name = \"/home/mlp/two-stream-action-recognition/fens_svm.pkl\"\n",
    "with open(model_pickle_name, 'rb') as file:\n",
    "    svm_model = pickle.load(file)"
   ]
  },
  {
   "cell_type": "code",
   "execution_count": null,
   "metadata": {},
   "outputs": [],
   "source": [
    "def adjust_gamma(image, gamma=1.0):\n",
    "    invGamma = 1.0 / gamma\n",
    "    table = np.array([((i / 255.0) ** invGamma) * 255\n",
    "        for i in np.arange(0, 256)]).astype(\"uint8\")\n",
    "\n",
    "    return cv2.LUT(image, table)"
   ]
  },
  {
   "cell_type": "code",
   "execution_count": null,
   "metadata": {},
   "outputs": [],
   "source": [
    "def adjust_gamma(image, gamma=1.0):\n",
    "\n",
    "    invGamma = 1.0 / gamma\n",
    "    table = np.array([((i / 255.0) ** invGamma) * 255\n",
    "      for i in np.arange(0, 256)]).astype(\"uint8\")\n",
    "\n",
    "    return cv2.LUT(image, table)"
   ]
  },
  {
   "cell_type": "code",
   "execution_count": null,
   "metadata": {},
   "outputs": [],
   "source": [
    "%matplotlib inline "
   ]
  },
  {
   "cell_type": "code",
   "execution_count": 5,
   "metadata": {},
   "outputs": [],
   "source": [
    "video_dir = '/mnt/disks/datastorage/videos/'\n",
    "#file = 'v_Shooting_g11_v1_b.mov'\n",
    "file = 'v_Shooting_g18_v1_c.MP4'\n",
    "video_path = os.path.join(video_dir,'fens',file)"
   ]
  },
  {
   "cell_type": "code",
   "execution_count": 6,
   "metadata": {},
   "outputs": [],
   "source": [
    "video_dir = os.path.dirname(os.path.abspath(video_path))\n",
    "video_name = os.path.splitext(os.path.basename(video_path))[0]\n",
    "pickle_path = os.path.join(video_dir, '{}_predictions.pkl'.format(video_name))\n",
    "use_svm = True\n",
    "\n",
    "with open(pickle_path, 'rb') as pf:\n",
    "    predictions = pickle.load(pf)\n",
    "    predictions = np.array(predictions).squeeze()\n",
    "    predictions_temporal = scipy_softmax(predictions[:, :nb_classes],1)\n",
    "    predictions_spatial = scipy_softmax(predictions[:, nb_classes:(nb_classes*2)],1)\n",
    "    pred_features = np.hstack((predictions_spatial,predictions_temporal))\n",
    "    predictions_combined = predictions[:, (nb_classes*2):]\n",
    "    if use_svm:\n",
    "        actions_prob = svm_model.predict_proba(pred_features)\n",
    "        actions = svm_model.predict(pred_features)-1\n",
    "    else:\n",
    "        actions = np.argmax(predictions_combined, axis=1) "
   ]
  },
  {
   "cell_type": "code",
   "execution_count": null,
   "metadata": {
    "scrolled": true
   },
   "outputs": [],
   "source": [
    "from IPython.display import clear_output\n",
    "\n",
    "temporal_net.eval()\n",
    "spatial_net.eval()\n",
    "\n",
    "action_dict = {\n",
    "    0: 'Theft',\n",
    "    1: 'Assault',\n",
    "    2: 'Shooting',\n",
    "    3: 'No Action',\n",
    "}\n",
    "# action_dict = {\n",
    "#     0: 'Assault',\n",
    "#     1: 'Shooting',\n",
    "#     2: 'No Action',\n",
    "# }\n",
    "\n",
    "out = cv2.VideoWriter(\"demo.avi\", cv2.VideoWriter_fourcc(*\"MJPG\"), 20.0, (1344,896), True)\n",
    "for i in range(len(imgs_spatial)-10):\n",
    "    rgb = imgs_spatial[i]\n",
    "    spatial_preds = softmax(spatial_net.forward(rgb.unsqueeze(0).cuda()),1)\n",
    "\n",
    "    flow = stack_op(imgs_u, imgs_v, i)\n",
    "    temporal_preds = softmax(temporal_net.forward(flow.cuda()),1)\n",
    "    #preds = torch.mean(torch.cat((spatial_preds,temporal_preds)),0)#torch.mean(spatial_preds + temporal_preds,0)\n",
    "    #preds = spatial_preds.squeeze()\n",
    "    #p = (spatial_preds + temporal_preds).cpu().detach().numpy().squeeze()/2\n",
    "\n",
    "    p = np.hstack((spatial_preds.cpu().detach().numpy().squeeze(),temporal_preds.cpu().detach().numpy().squeeze()))\n",
    "    p = svm_model.predict_proba(np.expand_dims(p,0))\n",
    "    \n",
    "    label = action_dict[p.argmax().item()]\n",
    "    \n",
    "    rgb = imgs_normal[i].copy()\n",
    "    #rgb = adjust_gamma(imgs_normal[i].copy(),.3)\n",
    "    \n",
    "    flow_u = skimage.color.gray2rgb(imgs_u_normal[i].copy())\n",
    "    flow_v = skimage.color.gray2rgb(imgs_v_normal[i].copy())\n",
    "    \n",
    "    # Linearly scale to make pretty!\n",
    "    flow_u = (flow_u-flow_u.min())/(flow_u.max()-flow_u.min())\n",
    "    flow_v = (flow_v-flow_v.min())/(flow_v.max()-flow_v.min())\n",
    "    \n",
    "    plt.bar(np.arange(0,nb_classes),spatial_preds.cpu().detach().numpy().reshape((-1,)),tick_label=list(action_dict.values()))\n",
    "    plt.title(\"Spatial\")\n",
    "    plt.ylim([0,1])\n",
    "    plt.savefig(\"SpatialBar.jpg\")\n",
    "    spatial_bar = plt.imread(\"SpatialBar.jpg\")\n",
    "    spatial_bar = cv2.resize(spatial_bar,(224,224))/255\n",
    "    plt.close()\n",
    "    \n",
    "    plt.bar(np.arange(0,nb_classes),temporal_preds.cpu().detach().numpy().reshape((-1,)),tick_label=list(action_dict.values()))\n",
    "    plt.title(\"Temporal\")\n",
    "    plt.ylim([0,1])\n",
    "    plt.savefig(\"TemporalBar.jpg\")\n",
    "    temporal_bar = plt.imread(\"TemporalBar.jpg\")\n",
    "    temporal_bar = cv2.resize(temporal_bar,(224,224))/255\n",
    "    plt.close()\n",
    "    \n",
    "    plt.bar(np.arange(0,nb_classes),p.squeeze(),tick_label=list(action_dict.values()))\n",
    "    plt.title(\"Combined\")\n",
    "    plt.ylim([0,1])\n",
    "    plt.savefig(\"CombinedBar.jpg\")\n",
    "    combined_bar = plt.imread(\"CombinedBar.jpg\")\n",
    "    combined_bar = cv2.resize(combined_bar,(224,224))/255\n",
    "    plt.close()\n",
    "    \n",
    "    frame1 = np.hstack((rgb/255, flow_u, flow_v))\n",
    "    frame2 = np.hstack((combined_bar,spatial_bar,temporal_bar))\n",
    "    frame = np.vstack((frame1,frame2))\n",
    "    \n",
    "    cv2.putText(\n",
    "        frame,\n",
    "        label,\n",
    "        (10, 30),\n",
    "        cv2.FONT_HERSHEY_SIMPLEX,\n",
    "        0.75,\n",
    "        (1, 1, 1),\n",
    "        thickness=2\n",
    "    )\n",
    "    frame = cv2.resize(frame, (0, 0), fx=2, fy=2)\n",
    "    frame = np.uint8(frame * 255)\n",
    "    out.write(frame)\n",
    "    \n",
    "#     plt.figure(1,figsize = (30,30)) # creates a figure 10 inches by 10 inches\n",
    "#     plt.axis('off')\n",
    "#     plt.imshow(frame)\n",
    "#     plt.show()\n",
    "#     clear_output(wait=True)\n",
    "#     if i < 5:\n",
    "#         continue\n",
    "#     if i > 15:\n",
    "#         break\n",
    "#     print(i)\n",
    "\n",
    "out.release()"
   ]
  },
  {
   "cell_type": "code",
   "execution_count": 10,
   "metadata": {},
   "outputs": [],
   "source": [
    "from IPython.display import clear_output\n",
    "\n",
    "temporal_net.eval()\n",
    "spatial_net.eval()\n",
    "\n",
    "action_dict = {\n",
    "    0: 'Theft',\n",
    "    1: 'Assault',\n",
    "    2: 'Shooting',\n",
    "    3: 'No Action',\n",
    "}\n",
    "# action_dict = {\n",
    "#     0: 'Assault',\n",
    "#     1: 'Shooting',\n",
    "#     2: 'No Action',\n",
    "# }\n",
    "labels = []\n",
    "temporal_pred = []\n",
    "spatial_pred = []\n",
    "for i in range(len(imgs_spatial)-10):\n",
    "    rgb = imgs_spatial[i]\n",
    "    spatial_preds = softmax(spatial_net.forward(rgb.unsqueeze(0).cuda()),1)\n",
    "    spatial_pred.append(spatial_preds.detach().cpu().numpy())\n",
    "\n",
    "    flow = stack_op(imgs_u, imgs_v, i)\n",
    "    temporal_preds = softmax(temporal_net.forward(flow.cuda()),1)\n",
    "    temporal_pred.append(temporal_preds.cpu().detach().numpy())\n",
    "    \n",
    "    #preds = torch.mean(torch.cat((spatial_preds,temporal_preds)),0)#torch.mean(spatial_preds + temporal_preds,0)\n",
    "    #preds = spatial_preds.squeeze()\n",
    "    #p = (spatial_preds + temporal_preds).cpu().detach().numpy().squeeze()/2\n",
    "\n",
    "    p = np.hstack((spatial_preds.cpu().detach().numpy().squeeze(),temporal_preds.cpu().detach().numpy().squeeze()))\n",
    "    p = svm_model.predict_proba(np.expand_dims(p,0))\n",
    "    \n",
    "    label = action_dict[p.argmax().item()]\n",
    "    labels.append(p.argmax().item())"
   ]
  },
  {
   "cell_type": "code",
   "execution_count": 13,
   "metadata": {},
   "outputs": [
    {
     "data": {
      "text/plain": [
       "array([[8.73169396e-03, 8.96788463e-02, 8.89425337e-01, 1.21641224e-02],\n",
       "       [8.23722593e-03, 8.81016552e-02, 8.93618166e-01, 1.00430222e-02],\n",
       "       [8.14862456e-03, 6.18803240e-02, 9.16702509e-01, 1.32686142e-02],\n",
       "       [9.24860965e-03, 6.12379462e-02, 9.18237567e-01, 1.12758465e-02],\n",
       "       [1.04142036e-02, 4.94338498e-02, 9.30993795e-01, 9.15809441e-03],\n",
       "       [1.05711697e-02, 4.45067436e-02, 9.33082223e-01, 1.18398592e-02],\n",
       "       [1.20577756e-02, 5.07276580e-02, 9.24511552e-01, 1.27031133e-02],\n",
       "       [1.46754235e-02, 5.27351871e-02, 9.19232488e-01, 1.33567872e-02],\n",
       "       [6.55597076e-03, 2.92919148e-02, 9.58380342e-01, 5.77178271e-03],\n",
       "       [1.04101356e-02, 7.37543851e-02, 9.07918930e-01, 7.91657344e-03],\n",
       "       [9.76230297e-03, 1.25151038e-01, 8.46217215e-01, 1.88694652e-02],\n",
       "       [1.14420503e-02, 8.38079825e-02, 8.89186740e-01, 1.55632636e-02],\n",
       "       [7.87639711e-03, 1.16931096e-01, 8.59569192e-01, 1.56232752e-02],\n",
       "       [9.73071344e-03, 9.79827270e-02, 8.79344523e-01, 1.29420236e-02],\n",
       "       [6.82203658e-03, 9.38237309e-02, 8.91810417e-01, 7.54383206e-03],\n",
       "       [1.78603604e-02, 1.62168205e-01, 8.04049790e-01, 1.59217231e-02],\n",
       "       [1.31847365e-02, 1.06906086e-01, 8.68129194e-01, 1.17800729e-02],\n",
       "       [9.16875713e-03, 9.65328068e-02, 8.82214665e-01, 1.20837586e-02],\n",
       "       [8.71261209e-03, 1.02158852e-01, 8.78181756e-01, 1.09467711e-02],\n",
       "       [7.50254560e-03, 6.85494766e-02, 9.11594152e-01, 1.23537853e-02],\n",
       "       [7.06565287e-03, 5.45269363e-02, 9.25356150e-01, 1.30512677e-02],\n",
       "       [1.01505816e-02, 3.88056338e-02, 9.39523697e-01, 1.15201026e-02],\n",
       "       [5.51074045e-03, 1.61079448e-02, 9.74661469e-01, 3.71994148e-03],\n",
       "       [5.39939757e-03, 9.59822349e-03, 9.81587470e-01, 3.41492845e-03],\n",
       "       [5.90813998e-03, 2.21172478e-02, 9.68752027e-01, 3.22256051e-03],\n",
       "       [9.26520023e-03, 1.93787478e-02, 9.64143097e-01, 7.21301744e-03],\n",
       "       [1.75393634e-02, 2.73585767e-02, 9.42060709e-01, 1.30413091e-02],\n",
       "       [2.01679505e-02, 6.07733466e-02, 9.06155646e-01, 1.29030040e-02],\n",
       "       [1.70364641e-02, 2.82464065e-02, 9.46997583e-01, 7.71948928e-03],\n",
       "       [3.12668309e-02, 2.38276664e-02, 9.30047393e-01, 1.48580186e-02],\n",
       "       [1.60299968e-02, 2.61476487e-02, 9.45926011e-01, 1.18964016e-02],\n",
       "       [1.11095393e-02, 2.19518524e-02, 9.56708968e-01, 1.02296202e-02],\n",
       "       [6.24716841e-03, 2.15043928e-02, 9.58924234e-01, 1.33241219e-02],\n",
       "       [5.76658687e-03, 2.84679029e-02, 9.59471881e-01, 6.29359717e-03],\n",
       "       [5.61018428e-03, 1.70223787e-02, 9.73146915e-01, 4.22044005e-03],\n",
       "       [3.87880183e-03, 9.29427892e-03, 9.81914580e-01, 4.91238059e-03],\n",
       "       [2.65203137e-03, 5.01559069e-03, 9.87529993e-01, 4.80238255e-03],\n",
       "       [3.71946511e-03, 3.45766451e-03, 9.89356816e-01, 3.46603687e-03],\n",
       "       [4.31086356e-03, 4.07581730e-03, 9.86875296e-01, 4.73806495e-03],\n",
       "       [5.30678872e-03, 7.00107124e-03, 9.82876003e-01, 4.81602829e-03],\n",
       "       [5.42902248e-03, 5.85065968e-03, 9.83948410e-01, 4.77194833e-03],\n",
       "       [5.02400799e-03, 4.89804661e-03, 9.85687077e-01, 4.39088186e-03],\n",
       "       [4.49822797e-03, 6.11270871e-03, 9.84762728e-01, 4.62639285e-03],\n",
       "       [8.82198103e-03, 7.58586032e-03, 9.79096293e-01, 4.49578930e-03],\n",
       "       [9.12975799e-03, 7.99413119e-03, 9.77889717e-01, 4.98648779e-03],\n",
       "       [6.49292907e-03, 8.96648224e-03, 9.79897439e-01, 4.64315806e-03],\n",
       "       [7.77150504e-03, 1.09315356e-02, 9.75191474e-01, 6.10538060e-03],\n",
       "       [5.60121099e-03, 8.46395083e-03, 9.80001509e-01, 5.93335368e-03],\n",
       "       [5.65221487e-03, 9.83363762e-03, 9.77302790e-01, 7.21135456e-03],\n",
       "       [7.34477723e-03, 1.28439963e-02, 9.72327888e-01, 7.48325372e-03],\n",
       "       [7.01196771e-03, 9.70768835e-03, 9.77700412e-01, 5.57988463e-03],\n",
       "       [8.23952816e-03, 1.29856905e-02, 9.73149836e-01, 5.62492292e-03],\n",
       "       [7.93712121e-03, 1.13924555e-02, 9.68299627e-01, 1.23707270e-02],\n",
       "       [6.72220346e-03, 1.03933141e-02, 9.75784004e-01, 7.10061379e-03],\n",
       "       [6.44867728e-03, 7.15103466e-03, 9.81487870e-01, 4.91248444e-03],\n",
       "       [4.19021863e-03, 1.28066828e-02, 9.75576282e-01, 7.42678391e-03],\n",
       "       [7.86506943e-03, 1.51272910e-02, 9.69896853e-01, 7.11074844e-03],\n",
       "       [7.89469667e-03, 1.07999137e-02, 9.74401295e-01, 6.90412102e-03],\n",
       "       [8.79142061e-03, 1.00868605e-02, 9.73644674e-01, 7.47706927e-03],\n",
       "       [6.71795523e-03, 8.60556215e-03, 9.79556918e-01, 5.11948019e-03],\n",
       "       [8.50756932e-03, 9.48602427e-03, 9.74265397e-01, 7.74101214e-03],\n",
       "       [1.05677331e-02, 1.86774377e-02, 9.60576177e-01, 1.01786703e-02],\n",
       "       [8.96016601e-03, 1.38420295e-02, 9.71069574e-01, 6.12822408e-03],\n",
       "       [8.07761680e-03, 1.63496658e-02, 9.69971538e-01, 5.60109550e-03],\n",
       "       [6.99099153e-03, 1.16923256e-02, 9.76627707e-01, 4.68894141e-03],\n",
       "       [1.06145861e-02, 1.11416951e-02, 9.75826979e-01, 2.41675368e-03],\n",
       "       [1.33943949e-02, 1.45144435e-02, 9.66767192e-01, 5.32398326e-03],\n",
       "       [2.28653792e-02, 1.97917316e-02, 9.52440262e-01, 4.90259239e-03],\n",
       "       [1.25830509e-02, 1.22562256e-02, 9.71168637e-01, 3.99210444e-03],\n",
       "       [1.69042759e-02, 1.69486664e-02, 9.61580575e-01, 4.56654234e-03],\n",
       "       [1.17410179e-02, 1.54308118e-02, 9.69947696e-01, 2.88049714e-03],\n",
       "       [8.46429449e-03, 1.22416420e-02, 9.76737022e-01, 2.55704648e-03],\n",
       "       [1.41695915e-02, 1.05130505e-02, 9.71957982e-01, 3.35926912e-03],\n",
       "       [1.06230285e-02, 1.13324188e-02, 9.74972725e-01, 3.07179592e-03],\n",
       "       [1.43684121e-02, 1.15763415e-02, 9.71773326e-01, 2.28190422e-03],\n",
       "       [8.45681317e-03, 8.15663673e-03, 9.80797052e-01, 2.58952007e-03],\n",
       "       [9.61804297e-03, 9.07619949e-03, 9.76470947e-01, 4.83482657e-03],\n",
       "       [1.03628477e-02, 1.10548409e-02, 9.71844137e-01, 6.73811929e-03],\n",
       "       [4.84125270e-03, 6.97837444e-03, 9.84543264e-01, 3.63702490e-03],\n",
       "       [2.54333741e-03, 4.59493743e-03, 9.91110444e-01, 1.75128155e-03],\n",
       "       [2.96179461e-03, 3.67988390e-03, 9.91775751e-01, 1.58264022e-03],\n",
       "       [4.41126525e-03, 6.36924664e-03, 9.86379564e-01, 2.83987354e-03],\n",
       "       [3.64170992e-03, 4.27671475e-03, 9.89415050e-01, 2.66657025e-03],\n",
       "       [4.81536612e-03, 3.30589828e-03, 9.87993956e-01, 3.88479233e-03],\n",
       "       [4.00602305e-03, 3.84322437e-03, 9.84732807e-01, 7.41798058e-03],\n",
       "       [3.64700845e-03, 4.01031366e-03, 9.86792564e-01, 5.55008091e-03],\n",
       "       [3.52671556e-03, 4.65867948e-03, 9.89800990e-01, 2.01355084e-03],\n",
       "       [1.50183600e-03, 3.14789801e-03, 9.93813038e-01, 1.53721508e-03],\n",
       "       [1.90133636e-03, 5.66898193e-03, 9.90473092e-01, 1.95655227e-03],\n",
       "       [1.76430226e-03, 8.39492679e-03, 9.87825930e-01, 2.01479578e-03],\n",
       "       [1.63683342e-03, 6.93516992e-03, 9.90030408e-01, 1.39759865e-03],\n",
       "       [3.15739634e-03, 1.07223624e-02, 9.83820200e-01, 2.29998538e-03],\n",
       "       [5.75918937e-03, 6.35301974e-03, 9.86046851e-01, 1.84105907e-03],\n",
       "       [4.31533391e-03, 3.03285965e-03, 9.91781771e-01, 8.70015123e-04],\n",
       "       [3.49917146e-03, 4.02451120e-03, 9.91607308e-01, 8.69035372e-04],\n",
       "       [3.29012028e-03, 6.65806932e-03, 9.88599062e-01, 1.45279232e-03],\n",
       "       [2.08338676e-03, 6.51765103e-03, 9.89706993e-01, 1.69197668e-03],\n",
       "       [2.08769692e-03, 5.07899467e-03, 9.91975725e-01, 8.57524748e-04],\n",
       "       [2.02221749e-03, 7.85715319e-03, 9.88481879e-01, 1.63877127e-03],\n",
       "       [2.55741854e-03, 1.23941321e-02, 9.83283997e-01, 1.76440517e-03],\n",
       "       [5.01280976e-03, 2.55572367e-02, 9.65559602e-01, 3.87034798e-03],\n",
       "       [3.68556427e-03, 3.58869657e-02, 9.55869794e-01, 4.55772784e-03],\n",
       "       [5.98445674e-03, 2.52280291e-02, 9.64474678e-01, 4.31282958e-03],\n",
       "       [6.84324140e-03, 3.99615765e-02, 9.48669493e-01, 4.52561770e-03],\n",
       "       [1.73612703e-02, 8.58201608e-02, 8.90621960e-01, 6.19664090e-03],\n",
       "       [3.37938815e-02, 1.18669443e-01, 8.38008285e-01, 9.52840783e-03],\n",
       "       [4.35504951e-02, 1.33883625e-01, 8.12417924e-01, 1.01479916e-02],\n",
       "       [4.00608964e-02, 1.21320985e-01, 8.24113190e-01, 1.45049253e-02],\n",
       "       [2.66160127e-02, 1.07578270e-01, 8.51254046e-01, 1.45516321e-02],\n",
       "       [1.41030652e-02, 9.57233012e-02, 8.81677508e-01, 8.49611592e-03],\n",
       "       [2.36493647e-02, 1.01580612e-01, 8.64128172e-01, 1.06418282e-02],\n",
       "       [2.13326886e-02, 6.17686585e-02, 9.08183634e-01, 8.71503726e-03],\n",
       "       [2.07097940e-02, 5.40695935e-02, 9.16163564e-01, 9.05701425e-03],\n",
       "       [1.89048536e-02, 9.56176445e-02, 8.74118626e-01, 1.13588180e-02],\n",
       "       [1.33376988e-02, 6.51092827e-02, 9.10312712e-01, 1.12402439e-02],\n",
       "       [2.42510512e-02, 5.33047020e-02, 9.09732044e-01, 1.27122235e-02],\n",
       "       [1.80344917e-02, 5.96336611e-02, 9.12200511e-01, 1.01313181e-02],\n",
       "       [1.19736027e-02, 5.04346527e-02, 9.26918030e-01, 1.06737465e-02],\n",
       "       [1.19430646e-02, 5.20672500e-02, 9.28307593e-01, 7.68209575e-03],\n",
       "       [1.33965937e-02, 5.30552007e-02, 9.24843311e-01, 8.70489608e-03],\n",
       "       [1.90570559e-02, 5.29425889e-02, 9.21695530e-01, 6.30478980e-03],\n",
       "       [1.65841244e-02, 6.96732849e-02, 9.06485915e-01, 7.25662895e-03],\n",
       "       [2.21331492e-02, 8.13324824e-02, 8.86167347e-01, 1.03670703e-02],\n",
       "       [2.16048677e-02, 8.31007510e-02, 8.88958037e-01, 6.33635651e-03],\n",
       "       [3.39431018e-02, 8.33660364e-02, 8.76826227e-01, 5.86465467e-03],\n",
       "       [4.93120253e-02, 1.32818893e-01, 8.12844813e-01, 5.02430461e-03],\n",
       "       [3.34583037e-02, 8.26161504e-02, 8.78035247e-01, 5.89030841e-03]],\n",
       "      dtype=float32)"
      ]
     },
     "execution_count": 13,
     "metadata": {},
     "output_type": "execute_result"
    }
   ],
   "source": [
    "spatial_pred = np.concatenate(spatial_pred)"
   ]
  },
  {
   "cell_type": "code",
   "execution_count": 14,
   "metadata": {},
   "outputs": [],
   "source": [
    "temporal_pred = np.concatenate(temporal_pred)"
   ]
  },
  {
   "cell_type": "code",
   "execution_count": 34,
   "metadata": {},
   "outputs": [],
   "source": [
    "spatial_pred = np.concatenate(spatial_pred)"
   ]
  },
  {
   "cell_type": "code",
   "execution_count": 22,
   "metadata": {},
   "outputs": [
    {
     "data": {
      "text/plain": [
       "(127, 4)"
      ]
     },
     "execution_count": 22,
     "metadata": {},
     "output_type": "execute_result"
    }
   ],
   "source": [
    "predictions_temporal[0:len(temporal_pred),:].shape"
   ]
  },
  {
   "cell_type": "code",
   "execution_count": 32,
   "metadata": {},
   "outputs": [
    {
     "data": {
      "text/plain": [
       "(127, 4)"
      ]
     },
     "execution_count": 32,
     "metadata": {},
     "output_type": "execute_result"
    }
   ],
   "source": [
    "predictions_spatial[0:len(spatial_pred),:].shape"
   ]
  },
  {
   "cell_type": "code",
   "execution_count": 35,
   "metadata": {},
   "outputs": [
    {
     "data": {
      "text/plain": [
       "array([0.87875795, 0.82360154, 0.8366462 , 0.8508769 , 0.8764015 ,\n",
       "       0.868197  , 0.8215692 , 0.77737683, 0.8145846 , 0.697953  ,\n",
       "       0.68301046, 0.8340052 , 0.60298985, 0.6570479 , 0.5435574 ,\n",
       "       0.5672279 , 0.73534113, 0.5176944 , 0.6212846 , 0.6501465 ,\n",
       "       0.44038996, 0.297898  , 0.5884671 , 0.28728694, 0.07253838,\n",
       "       0.02153254, 0.07115871, 0.03250262, 0.0559746 , 0.02058405,\n",
       "       0.02433264, 0.22665638, 0.6600785 , 0.7822607 , 0.5784272 ,\n",
       "       0.45183057, 0.34637588, 0.02207565, 0.00468462, 0.00588297,\n",
       "       0.00474253, 0.00436881, 0.00455042, 0.00438447, 0.00404035,\n",
       "       0.00418743, 0.00762296, 0.00635469, 0.00712022, 0.00734178,\n",
       "       0.00911629, 0.04062921, 0.03252423, 0.02524281, 0.01510155,\n",
       "       0.14612979, 0.29919368, 0.10856044, 0.10822278, 0.17057109,\n",
       "       0.19985521, 0.5418469 , 0.9572179 , 0.9422041 , 0.93501425,\n",
       "       0.5483049 , 0.07512558, 0.08455253, 0.03198022, 0.00798689,\n",
       "       0.00541207, 0.01988494, 0.00494676, 0.00846725, 0.00852926,\n",
       "       0.02921396, 0.29318625, 0.23803037, 0.39194185, 0.6259904 ,\n",
       "       0.6047568 , 0.68877935, 0.8200987 , 0.71399325, 0.8418145 ,\n",
       "       0.86973345, 0.9568968 , 0.7424549 , 0.4918044 , 0.39174503,\n",
       "       0.7124939 , 0.9039847 , 0.9304463 , 0.97412884, 0.9824882 ,\n",
       "       0.98240113, 0.98885417, 0.9909062 , 0.98029596, 0.97815144,\n",
       "       0.9598439 , 0.95309514, 0.9641799 , 0.9480963 , 0.8900267 ,\n",
       "       0.83690643, 0.81095445, 0.8165372 , 0.8468062 , 0.8772841 ,\n",
       "       0.8443452 , 0.89138955, 0.9076791 , 0.8611709 , 0.9046069 ,\n",
       "       0.8954422 , 0.8138177 , 0.8016806 , 0.84120804, 0.73798585,\n",
       "       0.75672054, 0.7950434 , 0.74123037, 0.72491384, 0.7046782 ,\n",
       "       0.62687147, 0.6812705 ], dtype=float32)"
      ]
     },
     "execution_count": 35,
     "metadata": {},
     "output_type": "execute_result"
    }
   ],
   "source": [
    "(spatial_pred-predictions_spatial[0:len(spatial_pred),:]).max(1)"
   ]
  },
  {
   "cell_type": "code",
   "execution_count": 28,
   "metadata": {},
   "outputs": [
    {
     "data": {
      "text/plain": [
       "(127, 4)"
      ]
     },
     "execution_count": 28,
     "metadata": {},
     "output_type": "execute_result"
    }
   ],
   "source": [
    "(temporal_pred-predictions_temporal[0:len(temporal_pred),:]).max(1)"
   ]
  },
  {
   "cell_type": "code",
   "execution_count": null,
   "metadata": {},
   "outputs": [],
   "source": [
    "labels = np.array(labels)"
   ]
  },
  {
   "cell_type": "code",
   "execution_count": null,
   "metadata": {},
   "outputs": [],
   "source": [
    "action_labels = actions[0:len(labels)]"
   ]
  },
  {
   "cell_type": "code",
   "execution_count": null,
   "metadata": {},
   "outputs": [],
   "source": [
    "np.sum(action_labels == labels)/len(action_labels)"
   ]
  },
  {
   "cell_type": "code",
   "execution_count": null,
   "metadata": {},
   "outputs": [],
   "source": []
  }
 ],
 "metadata": {
  "kernelspec": {
   "display_name": "Python 3",
   "language": "python",
   "name": "python3"
  },
  "language_info": {
   "codemirror_mode": {
    "name": "ipython",
    "version": 3
   },
   "file_extension": ".py",
   "mimetype": "text/x-python",
   "name": "python",
   "nbconvert_exporter": "python",
   "pygments_lexer": "ipython3",
   "version": "3.7.3"
  }
 },
 "nbformat": 4,
 "nbformat_minor": 2
}
