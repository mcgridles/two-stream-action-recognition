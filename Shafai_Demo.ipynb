{
 "cells": [
  {
   "cell_type": "code",
   "execution_count": 1,
   "metadata": {},
   "outputs": [],
   "source": [
    "from two_stream_loader import *"
   ]
  },
  {
   "cell_type": "code",
   "execution_count": 2,
   "metadata": {},
   "outputs": [],
   "source": [
    "import matplotlib.pyplot as plt"
   ]
  },
  {
   "cell_type": "code",
   "execution_count": 3,
   "metadata": {},
   "outputs": [],
   "source": [
    "path_temporal = r\"C:\\Users\\lpott\\Desktop\\capstone\\two-stream-action-recognition_experiment\\tvl1_flow\"\n",
    "path_spatial = r\"C:\\Users\\lpott\\Desktop\\capstone\\two-stream-action-recognition_experiment\\jpegs_256\"\n",
    "file = \"v_BasketballDunk_g01_c01\"\n",
    "\n",
    "imgs_u,imgs_v = load_temporal_images(path_temporal,file)\n",
    "imgs_spatial = load_spatial_images(path_spatial,file)\n",
    "\n",
    "imgs_normal = load_normal_spatial_images(path_spatial,file)\n",
    "imgs_u_normal,imgs_v_normal = load_normal_temporal_images(path_temporal,file)"
   ]
  },
  {
   "cell_type": "code",
   "execution_count": 9,
   "metadata": {},
   "outputs": [],
   "source": [
    "fourcc = cv2.VideoWriter_fourcc(*'MJPG')\n",
    "\n",
    "out = cv2.VideoWriter('henry_pushups.avi',fourcc, 20.0, (224*3,224),True)\n",
    " \n",
    "for i in range(len(imgs_u)):\n",
    "    im = imgs_normal[i]\n",
    "    im_u = np.repeat(np.expand_dims(imgs_u_normal[i],2),3,axis=2)\n",
    "    im_v = np.repeat(np.expand_dims(imgs_v_normal[i],2),3,axis=2)\n",
    "    stack = np.hstack((im, im_u, im_v))\n",
    "    \n",
    "    text = 'testing 123'\n",
    "    font = cv2.FONT_HERSHEY_SIMPLEX\n",
    "    img = cv2.putText(stack, text, (50, 50), font, 2, (255, 255, 0), 2)\n",
    "    \n",
    "\n",
    "    img = cv2.cvtColor(stack ,cv2.COLOR_RGB2BGR)\n",
    "    img = img.astype(np.uint8)\n",
    "        \n",
    "    out.write(img)\n",
    "\n",
    "out.release()"
   ]
  }
 ],
 "metadata": {
  "kernelspec": {
   "display_name": "Python 3",
   "language": "python",
   "name": "python3"
  },
  "language_info": {
   "codemirror_mode": {
    "name": "ipython",
    "version": 3
   },
   "file_extension": ".py",
   "mimetype": "text/x-python",
   "name": "python",
   "nbconvert_exporter": "python",
   "pygments_lexer": "ipython3",
   "version": "3.6.8"
  }
 },
 "nbformat": 4,
 "nbformat_minor": 2
}
